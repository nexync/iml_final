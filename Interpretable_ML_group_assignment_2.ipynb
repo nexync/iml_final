{
  "cells": [
    {
      "cell_type": "markdown",
      "metadata": {
        "id": "VVf630KvIJ4W"
      },
      "source": [
        "# **Group Assignment 2: Human-machine Interaction and Greater Zero-sum Gains [100 points]**\n",
        "\n",
        "Due: May 8th by 1:59 pm (not at midnight)\n",
        "\n",
        "# Instructions\n",
        "In this assignment you will work in groups of 4 students max (they can be the same as the previous group assignment). You will be presented with an additional challenge: achieving complementary team performance. You will be designing an experiment to validate your solutions and hypotheses of what you think you are going to observe. Through a small-scale user study, you will collect some evidence to gain insights about your solution.  \n",
        "\n",
        "**Deliverables:**\n",
        "1.   A PDF containing all of your responses to the written questions shared in this notebook.\n",
        "\n",
        "Upload the PDF in 1 to the main assignment link on Gradescope.\n",
        "\n",
        "Only one submission per group is needed. Add the names of your team members:\n",
        "\n",
        "    [List names here]\n",
        "\n",
        "**Learning outcomes:**\n",
        "1.  Formulating study designs to test your solutions.\n",
        "2.  Executing the study and interpreting the data acquired."
      ]
    },
    {
      "cell_type": "markdown",
      "metadata": {
        "id": "IAsN4m2yIe14"
      },
      "source": [
        "### Background\n",
        "Make sure you read and undestand these concepts before you start developing the assignment.\n",
        "\n",
        "People team up with AI-powered systems to accomplish critical\n",
        "tasks as well as more mundane tasks. There is a premise stating that the expertise of the AI system complements the expertise of the human, which allows the partnership to accomplish even more than each actor involved alone. This is reflected in a better human-AI team performance or **complementary performance** because the interacting parties' aggregate gains and losses can be more than zero, i.e., there's a non-zero-sum situation.\n",
        "\n",
        "In practice, the degree of complementary expertise can vary from no overlap of expertise to perfect complementarity. Besides, it is not always easy for a human user to know when an AI system may be an expert in some parts of\n",
        "a task but be a non-expert in others.\n",
        "\n",
        "Despite observed improvements when humans collaborate with AI in certain tasks compared to humans working alone, there remains a gap with respect to the AI's performance in autonomous operation. The challenges mentioned above can potentially contribute to achieving such superior performance than both individual parts. Importantly, we would like to keep the human-in-the-loop for acceptance, accountability, and ethical and legal considerations.  \n",
        "\n",
        "\n",
        "### Your goal: Design an AI assistance solution that will allow the human-AI team to achieve better task-related performace than each part operating separately.\n",
        "\n",
        "Reference: [You Complete Me: Human-AI Teams and Complementary\n",
        "Expertise](https://dl.acm.org/doi/10.1145/3491102.3517791)"
      ]
    },
    {
      "cell_type": "markdown",
      "metadata": {
        "id": "H6j8wQ5oNscB"
      },
      "source": [
        "### Part 1 — Study overview\n",
        "\n",
        "### Problem 1.1 [6 points]\n",
        "Define an AI-based solution with explanations and specify the target end users.\n",
        "This problem should allow or **have the potential for greater zero-sum gains**. A task that is very easy for humans might not be suitable (it will be hard to beat the human alone).\n",
        "Because we are not following the initial stages of design thinking to identify real needs and define your solution again in this assignment, you can use any of the ideas from previous assignments.\n",
        "\n",
        "Make sure to include\n",
        "*   The need being fulfilled by your solution  \n",
        "*   What the model inputs, general mechanism, and outputs are\n",
        "*   How explainability or interpretability is incorporated"
      ]
    },
    {
      "cell_type": "markdown",
      "metadata": {
        "id": "vpvGRxajIUWS"
      },
      "source": [
        "Need: summarization check\n",
        "Inputs: document and its proposed summary, output binary yes or no\n",
        "Explainability : yes/no is accompanied by highlighting "
      ]
    },
    {
      "cell_type": "markdown",
      "metadata": {
        "id": "l4zvO7PRRxOZ"
      },
      "source": [
        "### Problem 1.2 [8 points]\n",
        "\n",
        "Formulate the hypotheses you need to test in a user study that allow you to validate whether your solution achieves the main goal (complementary team performance).\n",
        "This requires specifying what you will be measuring (dependent variables) and the independent variables (experimental treatments or manipulations).\n",
        "\n",
        "\n",
        "**Note:** balance the complexity and feasibility of running such a study. Think about what are the necessary conditions that would allow you to validate your solution."
      ]
    },
    {
      "cell_type": "markdown",
      "metadata": {
        "id": "0ZYi2VcCQdOY"
      },
      "source": [
        "List down your hypotheses here and a short rationale for each one:\n",
        "\n",
        "*   Hypothesis 1: Participants who are shown the article and summary along with AI highlighting will outperform participants not shown any highlighting in the summary correctness test\n",
        "    - We hypothesize that correct highlighting will help layman better evaluate the article when they do not have the domain knowledge to better understand the passage. We also expect participants to realize that the incorrect highlighting will not correlate with the summary given, which will also help outperform participants that are not shown any highlighting. \n",
        "*   H2: Participants who are shown the article and summary along with the correct AI highlighting will outperform participants not shown any highlighting in terms of time taken to evaluate the summary correctness\n",
        "    - We hypothesize that highlighting key segments of the text will allow readers to be able to better understand the text and evaluate the correctness of the summary. They can read the key points of the passage rather than trying to decipher cryptic text. However, participants provided with incorrect highlighting may take more time due to conflicting information. \n",
        "*\tH3: Participants will not show automation bias when given the AI highlighting of the passage.\n",
        "    - We hypothesize that the conflicting information between the incorrect AI highlighting and the summary given will allow the participants to doubt the validity of the highlighting and to analyze the passage in more detail to determine the validity of the summary. \n",
        "\n",
        "...\n",
        "\n",
        "*Define your independent variables here*\n",
        "\n",
        "* Type of passage highlighting (correct, incorrect, no highlighting)\n",
        "\n",
        "*Define your dependent variables here. You don't need to specify how you will measure them here.*\n",
        "\n",
        "* Performance: Participant accuracy of determining summary validity \n",
        "* Speed: Time taken to assess all passages and summaries"
      ]
    },
    {
      "cell_type": "markdown",
      "metadata": {
        "id": "mvyemyu5ZmOI"
      },
      "source": [
        "### Problem 1.3 [6 points]\n",
        "\n",
        "Define your experimental task and how you will acquire the data to compute the dependent variables mentioned above."
      ]
    },
    {
      "cell_type": "markdown",
      "metadata": {
        "id": "LkZVM4aJZzDm"
      },
      "source": [
        "*One or two sentences for your task definition*\n",
        "\n",
        "*For each dependent variable, explain how these will be computed*\n",
        "*   Dependent variable 1: \n",
        "    *   Speed: We will measure the time elapsed for users to assess all passages and their summaries. The specific time for each passage will also be recorded. \n",
        "*   Dependent variable 2: \n",
        "    * Performance: We will measure the performance by recording the binary answers (yes/no) of participants on whether the summaries are valid for a given passage. As a metric, the f1-score will be calculated from the binary answers and the correct response. \n",
        "...\n"
      ]
    },
    {
      "cell_type": "markdown",
      "metadata": {
        "id": "JjxlRsFpQrxx"
      },
      "source": [
        "### Part 2 — Interface development\n",
        "\n",
        "### Problem 2.1 [40 points]\n",
        "Build your **React prototype** with the intent to gather meaningful feedback for evaluating your solution's effectiveness. We won't be asking you to build paper or Figma prototypes this time, but some planning of the interface and interactions is recommended.\n",
        "\n",
        "Take into account that\n",
        "\n",
        "*   Your interface should support the recording of all the measurements relevant to validate your hypotheses.\n",
        "*   You may need additional pages to capture some metrics (e.g., through questionnaires).\n",
        "*   Data recording is a must here since you will recruit participants to validate your hypotheses.\n",
        "* You don't need to host your web application. You can launch the web interface locally for the main study in the next stage.   \n",
        "\n",
        "\n",
        "The actual deliverable for this part will be a demo for the pitch session scheduled during the final exam slot of this course. More information about the format will be released soon.\n",
        "\n",
        "As you complete this assignment, please prepare the demo."
      ]
    },
    {
      "cell_type": "markdown",
      "metadata": {
        "id": "d6pm1PGQV4LX"
      },
      "source": [
        "*Provide a link to your code here. It can be a github repository or Google Drive folder*"
      ]
    },
    {
      "cell_type": "markdown",
      "metadata": {
        "id": "jHoj-lOPSPIC"
      },
      "source": [
        "### Bonus [10%]:\n",
        "\n",
        "Implement the actual ML model that generates the outcomes of interest and connect it with your main interface. In this way, rather than mocking up the AI outcomes or behaviors, you can use your model to display the predictions and the corresponding explanations when needed.\n",
        "\n",
        "Considerations:\n",
        "* You may need access to certain datasets and annotations to train the model(s).\n",
        "\n",
        "* Think about what information you need to access in the backend to be transferred to the frontend, where the user will have the interaction with your AI system.\n",
        "\n",
        "* Real time processing is not required, but if your model relies on users' inputs to make some computations, then you may have to consider online processing.\n",
        "\n",
        "If you decide to complete the bonus, please report the dataset, data splits, training setup, experiments, and model evaluation."
      ]
    },
    {
      "cell_type": "markdown",
      "metadata": {
        "id": "OJUpEfz8Qws9"
      },
      "source": [
        "### Part 3 — Conducting a user study\n",
        "\n",
        "### Problem 3.1 [5 points]\n",
        "\n",
        "Before running your user study, we need to define the:\n",
        "\n",
        "1.  Experimental protocol of your study (execution steps)\n",
        "2.  Recruitment strategy (target population, inclusion/exclusion criteria, and participants' assignment).\n",
        "\n",
        "As a guide, your responses should resemble the corresponding sections in the Methods sections of the papers we have discussed in class."
      ]
    },
    {
      "cell_type": "markdown",
      "metadata": {
        "id": "T6zz4yTQYsWp"
      },
      "source": [
        "*One paragraph with your experimental protocol*\n",
        "\n",
        "*One paragraph with the participants information*"
      ]
    },
    {
      "cell_type": "markdown",
      "metadata": {
        "id": "MtqTxnWIST34"
      },
      "source": [
        "### Problem 3.2 [35 points]\n",
        "Collect data with at least 8 subjects. For this assignment, it is acceptable if the participants you recruit are not those specified as the target end users (explain if this is the case).\n",
        "\n",
        "Note: normally, we would need IRB approvals for conducting human-subjects evaluation, even when the risks are low because this type of studies involve intervention or testing (Neuropsychological/ cognitive/ psychosocial/ behavioral/ educational).\n",
        "\n",
        "Do the statistical analyses and report your main findings. Did you find evidence for your hypotheses? briefly discuss your results.\n",
        "\n"
      ]
    },
    {
      "cell_type": "markdown",
      "metadata": {
        "id": "cRbvvNDTbQBM"
      },
      "source": [
        "*One paragraph describing the statistical analysis plan*\n",
        "\n",
        "*Provide a brief description of the sample of participants*\n"
      ]
    },
    {
      "cell_type": "markdown",
      "metadata": {
        "id": "jx8vjx_kkiq5"
      },
      "source": [
        "*Organize your results by sections considering the depedent variables or constructs measured*\n",
        "\n",
        "\n",
        "#### Subtitle 1\n",
        "*Your results here. Include descriptive statistics and outcomes of the statistical tests. Graphs or visualizations can be included as well.*\n",
        "\n",
        "#### Subtitle 2\n",
        "*Your results here*\n",
        "\n",
        "..."
      ]
    },
    {
      "cell_type": "markdown",
      "metadata": {
        "id": "sRlMKrQnkoDa"
      },
      "source": [
        "*One or two paragraphs with the analysis of the results and contrast against your hypotheses*\n"
      ]
    }
  ],
  "metadata": {
    "colab": {
      "provenance": []
    },
    "kernelspec": {
      "display_name": "Python 3",
      "name": "python3"
    },
    "language_info": {
      "name": "python"
    }
  },
  "nbformat": 4,
  "nbformat_minor": 0
}
